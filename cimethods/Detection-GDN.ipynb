{
 "cells": [
  {
   "cell_type": "code",
   "execution_count": 85,
   "metadata": {},
   "outputs": [
    {
     "name": "stdout",
     "output_type": "stream",
     "text": [
      "The autoreload extension is already loaded. To reload it, use:\n",
      "  %reload_ext autoreload\n"
     ]
    }
   ],
   "source": [
    "%load_ext autoreload\n",
    "%autoreload 2\n",
    "\n",
    "import torch\n",
    "\n",
    "from tools.plot.im import imshow_all\n",
    "from tools.gaussian.SpotVector import GaussSpot\n",
    "from tools.gaussian.gen import generate, TruncGaussParams\n",
    "from detection.GDN.Model import ShapeDetector"
   ]
  },
  {
   "cell_type": "code",
   "execution_count": 86,
   "metadata": {},
   "outputs": [],
   "source": [
    "# this ensures that the current MacOS version is at least 12.3+\n",
    "#print(torch.backends.mps.is_available())\n",
    "# this ensures that the current current PyTorch installation was built with MPS activated.\n",
    "#print(torch.backends.mps.is_built())\n",
    "\n",
    "device = torch.device(\"cpu\")\n",
    "# device = torch.device(\"mps\")\n",
    "# %env PYTORCH_ENABLE_MPS_FALLBACK=1\n"
   ]
  },
  {
   "cell_type": "code",
   "execution_count": 87,
   "metadata": {},
   "outputs": [],
   "source": [
    "IMAGE_SIZE=64\n",
    "detector = ShapeDetector(GaussSpot.SIZE, IMAGE_SIZE,  device=device)"
   ]
  },
  {
   "cell_type": "code",
   "execution_count": 90,
   "metadata": {},
   "outputs": [
    {
     "name": "stdout",
     "output_type": "stream",
     "text": [
      "Iter:  0  Loss:  0.006725883577018976\n",
      "Iter:  10  Loss:  0.0187073384411633\n",
      "Iter:  20  Loss:  0.013156857062131166\n",
      "Iter:  30  Loss:  0.010272983461618423\n",
      "Iter:  40  Loss:  0.01013727211393416\n",
      "Iter:  50  Loss:  0.007940455619245768\n",
      "Iter:  60  Loss:  0.009052422735840083\n",
      "Iter:  70  Loss:  0.009104070579633116\n",
      "Iter:  80  Loss:  0.007155183842405677\n",
      "Iter:  90  Loss:  0.007315988861955702\n",
      "Iter:  100  Loss:  0.008103782637044787\n",
      "Iter:  110  Loss:  0.008349634287878872\n",
      "Iter:  120  Loss:  0.0067656923085451124\n"
     ]
    },
    {
     "ename": "KeyboardInterrupt",
     "evalue": "",
     "output_type": "error",
     "traceback": [
      "\u001b[0;31m---------------------------------------------------------------------------\u001b[0m",
      "\u001b[0;31mKeyboardInterrupt\u001b[0m                         Traceback (most recent call last)",
      "Cell \u001b[0;32mIn[90], line 3\u001b[0m\n\u001b[1;32m      1\u001b[0m batch_size\u001b[39m=\u001b[39m\u001b[39m32\u001b[39m\n\u001b[1;32m      2\u001b[0m n_batches\u001b[39m=\u001b[39m\u001b[39m500\u001b[39m\n\u001b[0;32m----> 3\u001b[0m detector\u001b[39m.\u001b[39;49mtrain(\n\u001b[1;32m      4\u001b[0m     [generate(IMAGE_SIZE, batch_size\u001b[39m=\u001b[39;49mbatch_size)\u001b[39m.\u001b[39;49mto(device) \u001b[39mfor\u001b[39;49;00m _ \u001b[39min\u001b[39;49;00m \u001b[39mrange\u001b[39;49m(n_batches) ],\n\u001b[1;32m      5\u001b[0m     epochs\u001b[39m=\u001b[39;49m\u001b[39m3\u001b[39;49m,\n\u001b[1;32m      6\u001b[0m     \n\u001b[1;32m      7\u001b[0m )\n",
      "File \u001b[0;32m~/code/tracklets-py/cimethods/detection/GDN/Model.py:143\u001b[0m, in \u001b[0;36mShapeDetector.train\u001b[0;34m(self, batch_iterator, lr, epochs, verbose)\u001b[0m\n\u001b[1;32m    140\u001b[0m loss \u001b[39m+\u001b[39m\u001b[39m=\u001b[39m torch\u001b[39m.\u001b[39mabs(input_center_idx\u001b[39m.\u001b[39mto(torch\u001b[39m.\u001b[39mfloat) \u001b[39m-\u001b[39m center_choice)\u001b[39m.\u001b[39mmean()\n\u001b[1;32m    142\u001b[0m optimizer\u001b[39m.\u001b[39mzero_grad()\n\u001b[0;32m--> 143\u001b[0m loss\u001b[39m.\u001b[39;49mbackward()\n\u001b[1;32m    144\u001b[0m optimizer\u001b[39m.\u001b[39mstep()\n\u001b[1;32m    146\u001b[0m losses\u001b[39m.\u001b[39mappend(loss\u001b[39m.\u001b[39mitem())  \n",
      "File \u001b[0;32m~/miniforge3/envs/pasteur/lib/python3.9/site-packages/torch/_tensor.py:487\u001b[0m, in \u001b[0;36mTensor.backward\u001b[0;34m(self, gradient, retain_graph, create_graph, inputs)\u001b[0m\n\u001b[1;32m    477\u001b[0m \u001b[39mif\u001b[39;00m has_torch_function_unary(\u001b[39mself\u001b[39m):\n\u001b[1;32m    478\u001b[0m     \u001b[39mreturn\u001b[39;00m handle_torch_function(\n\u001b[1;32m    479\u001b[0m         Tensor\u001b[39m.\u001b[39mbackward,\n\u001b[1;32m    480\u001b[0m         (\u001b[39mself\u001b[39m,),\n\u001b[0;32m   (...)\u001b[0m\n\u001b[1;32m    485\u001b[0m         inputs\u001b[39m=\u001b[39minputs,\n\u001b[1;32m    486\u001b[0m     )\n\u001b[0;32m--> 487\u001b[0m torch\u001b[39m.\u001b[39;49mautograd\u001b[39m.\u001b[39;49mbackward(\n\u001b[1;32m    488\u001b[0m     \u001b[39mself\u001b[39;49m, gradient, retain_graph, create_graph, inputs\u001b[39m=\u001b[39;49minputs\n\u001b[1;32m    489\u001b[0m )\n",
      "File \u001b[0;32m~/miniforge3/envs/pasteur/lib/python3.9/site-packages/torch/autograd/__init__.py:197\u001b[0m, in \u001b[0;36mbackward\u001b[0;34m(tensors, grad_tensors, retain_graph, create_graph, grad_variables, inputs)\u001b[0m\n\u001b[1;32m    192\u001b[0m     retain_graph \u001b[39m=\u001b[39m create_graph\n\u001b[1;32m    194\u001b[0m \u001b[39m# The reason we repeat same the comment below is that\u001b[39;00m\n\u001b[1;32m    195\u001b[0m \u001b[39m# some Python versions print out the first line of a multi-line function\u001b[39;00m\n\u001b[1;32m    196\u001b[0m \u001b[39m# calls in the traceback and some print out the last line\u001b[39;00m\n\u001b[0;32m--> 197\u001b[0m Variable\u001b[39m.\u001b[39;49m_execution_engine\u001b[39m.\u001b[39;49mrun_backward(  \u001b[39m# Calls into the C++ engine to run the backward pass\u001b[39;49;00m\n\u001b[1;32m    198\u001b[0m     tensors, grad_tensors_, retain_graph, create_graph, inputs,\n\u001b[1;32m    199\u001b[0m     allow_unreachable\u001b[39m=\u001b[39;49m\u001b[39mTrue\u001b[39;49;00m, accumulate_grad\u001b[39m=\u001b[39;49m\u001b[39mTrue\u001b[39;49;00m)\n",
      "\u001b[0;31mKeyboardInterrupt\u001b[0m: "
     ]
    }
   ],
   "source": [
    "\n",
    "batch_size=32\n",
    "n_batches=500\n",
    "detector.train(\n",
    "    [generate(IMAGE_SIZE, batch_size=batch_size).to(device) for _ in range(n_batches) ],\n",
    "    epochs=3,\n",
    "    \n",
    ")"
   ]
  },
  {
   "cell_type": "code",
   "execution_count": 93,
   "metadata": {},
   "outputs": [
    {
     "data": {
      "image/png": "[encoded data removed]",
      "text/plain": [
       "<Figure size 640x480 with 2 Axes>"
      ]
     },
     "metadata": {},
     "output_type": "display_data"
    }
   ],
   "source": [
    "test_batch = generate(\n",
    "    IMAGE_SIZE,\n",
    "    batch_size=1,\n",
    "    # intensity=TruncGaussParams(range=(0, 1), mu=1., sig=1.),\n",
    "    # sig=TruncGaussParams(range=(0.1, 2 ), mu=1, sig=0.3),\n",
    "    # sig_max_xy_ratio=1.6,\n",
    ").to(device)\n",
    "\n",
    "orig_image = detector._sum_image(test_batch)\n",
    "\n",
    "_, _, pred_images  = detector.forward_with_image(orig_image)\n",
    "pred_images = pred_images.detach()\n",
    "\n",
    "imshow_all(orig_image.squeeze(0), pred_images.squeeze(0))"
   ]
  },
  {
   "cell_type": "code",
   "execution_count": null,
   "metadata": {},
   "outputs": [],
   "source": []
  },
  {
   "cell_type": "code",
   "execution_count": null,
   "metadata": {},
   "outputs": [],
   "source": []
  }
 ],
 "metadata": {
  "kernelspec": {
   "display_name": "pasteur",
   "language": "python",
   "name": "python3"
  },
  "language_info": {
   "codemirror_mode": {
    "name": "ipython",
    "version": 3
   },
   "file_extension": ".py",
   "mimetype": "text/x-python",
   "name": "python",
   "nbconvert_exporter": "python",
   "pygments_lexer": "ipython3",
   "version": "3.9.7"
  },
  "orig_nbformat": 4,
  "vscode": {
   "interpreter": {
    "hash": "e6af48cec00cc946ce531552b8686eef2683e1bbf40024d6a5ef008668d9f8fc"
   }
  }
 },
 "nbformat": 4,
 "nbformat_minor": 2
}
