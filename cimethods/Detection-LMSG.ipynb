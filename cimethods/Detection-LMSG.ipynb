{
 "cells": [
  {
   "cell_type": "code",
   "execution_count": 9,
   "metadata": {},
   "outputs": [
    {
     "name": "stdout",
     "output_type": "stream",
     "text": [
      "The autoreload extension is already loaded. To reload it, use:\n",
      "  %reload_ext autoreload\n"
     ]
    }
   ],
   "source": [
    "from typing import Union\n",
    "from collections.abc import Iterable\n",
    "\n",
    "import torch\n",
    "import torch.nn.functional as F\n",
    "\n",
    "from tools.plot.im import imshow_all\n",
    "from detection.LMSG.ShapeOptimizer import ShapeOptimizer\n",
    "from tools.gaussian.SpotVector import GaussSpot\n",
    "from tools.gaussian.distance import wasserstein_distance_squared\n",
    "from tools.gaussian.gen import generate, TruncGaussParams\n",
    "\n",
    "%load_ext autoreload\n",
    "%autoreload 2"
   ]
  },
  {
   "cell_type": "code",
   "execution_count": 10,
   "metadata": {},
   "outputs": [],
   "source": [
    "# retreive sample image here; \n",
    "SIZE = 64\n",
    "images = generate(SIZE, 10, sig=TruncGaussParams(range=(0.3, 2), mu=1,sig=1)).sum_image(SIZE)"
   ]
  },
  {
   "cell_type": "code",
   "execution_count": 11,
   "metadata": {},
   "outputs": [
    {
     "data": {
      "image/png": "[encoded data removed]",
      "text/plain": [
       "<Figure size 640x480 with 1 Axes>"
      ]
     },
     "metadata": {},
     "output_type": "display_data"
    }
   ],
   "source": [
    "image = images[8]\n",
    "imshow_all(image)"
   ]
  },
  {
   "cell_type": "code",
   "execution_count": 12,
   "metadata": {},
   "outputs": [],
   "source": [
    "image = image.squeeze(-1)\n",
    "\n",
    "opt = ShapeOptimizer(image)\n",
    "opt.init_spots()\n",
    "centers = opt.get_centers()\n"
   ]
  },
  {
   "cell_type": "code",
   "execution_count": 13,
   "metadata": {},
   "outputs": [
    {
     "data": {
      "image/png": "[encoded data removed]",
      "text/plain": [
       "<Figure size 640x480 with 1 Axes>"
      ]
     },
     "metadata": {},
     "output_type": "display_data"
    }
   ],
   "source": [
    "import matplotlib.pyplot as plt\n",
    "import matplotlib.markers as mks\n",
    "\n",
    "def imshow_diff(image, prediction):\n",
    "    plt.axis(\"off\")\n",
    "    plt.imshow(prediction - image, vmax=1, vmin=-1)\n",
    "    plt.show()\n",
    "\n",
    "def imshow_with_points(image, centers):\n",
    "    plt.axis(\"off\")\n",
    "    plt.imshow(image, vmax=1, vmin=0)\n",
    "    marker = mks.MarkerStyle(marker='o')\n",
    "    plt.scatter(centers[...,1], centers[...,0], 10, c=\"red\", marker=marker)\n",
    "    plt.show()\n",
    "\n",
    "imshow_with_points(image, centers.detach())\n"
   ]
  },
  {
   "cell_type": "code",
   "execution_count": 14,
   "metadata": {},
   "outputs": [
    {
     "name": "stdout",
     "output_type": "stream",
     "text": [
      "early stop 120\n",
      "MSE image loss:  6.395916716428474e-05\n",
      "Max pixel-wise difference:  tensor(0.2255)\n"
     ]
    },
    {
     "data": {
      "image/png": "[encoded data removed]",
      "text/plain": [
       "<Figure size 640x480 with 2 Axes>"
      ]
     },
     "metadata": {},
     "output_type": "display_data"
    },
    {
     "data": {
      "image/png": "[encoded data removed]",
      "text/plain": [
       "<Figure size 640x480 with 1 Axes>"
      ]
     },
     "metadata": {},
     "output_type": "display_data"
    }
   ],
   "source": [
    "opt.optimize(lr=1, avg_loss_stop = 1e-20, avg_loss_stop_n=10)\n",
    "modeled_image = opt.spots_image()\n",
    "\n",
    "loss = F.mse_loss(modeled_image, image)\n",
    "max_pixel_diff = torch.abs(modeled_image-image).max()\n",
    "\n",
    "\n",
    "print(\"MSE image loss: \", loss.item())\n",
    "print(\"Max pixel-wise difference: \", max_pixel_diff)\n",
    "imshow_all(image, modeled_image)\n",
    "imshow_diff(modeled_image, image)\n"
   ]
  },
  {
   "attachments": {},
   "cell_type": "markdown",
   "metadata": {},
   "source": [
    "# Metrics Evaluation"
   ]
  },
  {
   "cell_type": "code",
   "execution_count": 15,
   "metadata": {},
   "outputs": [],
   "source": [
    "from cmath import isnan\n",
    "import scipy\n",
    "import time\n",
    "\n",
    "def find_pairs(spots1, spots2):\n",
    "    distances = torch.cdist(spots1.mu.unsqueeze(0), spots2.mu.unsqueeze(0)).squeeze(0)\n",
    "    row_ind, col_ind = scipy.optimize.linear_sum_assignment(distances)\n",
    "    return spots1[row_ind], spots2[col_ind], distances\n",
    "\n",
    "def calc_two_sets_accuracy(prediction: GaussSpot, target: GaussSpot, d_max=3.):\n",
    "    metrics = {}\n",
    "    sp_target, sp_pred, distances = find_pairs(target, prediction)\n",
    "    dist = ((sp_target.mu - sp_pred.mu)**2).sum(-1)\n",
    "    ok_pairs = dist < d_max**2\n",
    "    sp_target, sp_pred = sp_target[ok_pairs], sp_pred[ok_pairs]\n",
    "    metrics[\"dist_loss\"] = F.mse_loss(sp_pred.mu, sp_target.mu) if torch.numel(sp_target.tensor) > 0 else 0\n",
    "\n",
    "    #sometimes dist has 'nan' value TODO!: fix \n",
    "    w_dist2 = wasserstein_distance_squared(sp_pred.mu, sp_target.mu, sp_pred.sigD, sp_target.sigD)\n",
    "    metrics[\"shape_loss\"] = w_dist2.mean().item()  if torch.numel(w_dist2) > 0 else 0\n",
    "\n",
    "    metrics[\"false_positive\"] = max(len(prediction) - len(sp_pred), 0)\n",
    "    metrics[\"false_negative\"] = max(len(target) - len(sp_pred), 0)\n",
    "    return metrics"
   ]
  },
  {
   "cell_type": "code",
   "execution_count": 7,
   "metadata": {},
   "outputs": [],
   "source": [
    "def calculate_metrics(\n",
    "    data: Iterable[Union[torch.Tensor, GaussSpot]],\n",
    "    threshold=0.,\n",
    "    lr=1,\n",
    "    avg_loss_stop = 1e-10,\n",
    "    avg_loss_stop_n=5,\n",
    "):\n",
    "    metrics = {\n",
    "        \"time\": 0.,\n",
    "        \"image_loss\": 0.,\n",
    "        \"false_positive\": 0.,\n",
    "        \"false_negative\": 0.,\n",
    "        \"dist_loss\": 0.,\n",
    "        \"shape_loss\": 0.,\n",
    "    }\n",
    "    n = 0.\n",
    "    for input in data:\n",
    "        n+=1\n",
    "        input_image = input.sum_image(SIZE) if isinstance(input, GaussSpot) else input\n",
    "        \n",
    "        start_time = time.perf_counter()\n",
    "\n",
    "        opt = ShapeOptimizer(input_image)\n",
    "        opt.init_spots(threshold=threshold)\n",
    "        # TODO: dependency of image_loss on lr/early_stop\n",
    "        opt.optimize(lr=lr, avg_loss_stop = avg_loss_stop, avg_loss_stop_n=avg_loss_stop_n)\n",
    "\n",
    "        end_time = time.perf_counter()\n",
    "        metrics[\"time\"] += end_time-start_time\n",
    "\n",
    "        modeled_image = opt.spots_image()\n",
    "\n",
    "        metrics[\"image_loss\"] += F.mse_loss(modeled_image, image).item()\n",
    "\n",
    "        if isinstance(input, GaussSpot): # ground truth spot set\n",
    "            spots = opt.spots\n",
    "            spots_predicted = spots[spots.intensity>0.01]\n",
    "            set_metrics = calc_two_sets_accuracy(spots_predicted, input)\n",
    "            for k, v in set_metrics.items():\n",
    "                metrics[k] += v\n",
    "    for k, v in metrics.items():\n",
    "        metrics[k] = v/n\n",
    "    return metrics\n"
   ]
  },
  {
   "cell_type": "code",
   "execution_count": 10,
   "metadata": {},
   "outputs": [
    {
     "name": "stdout",
     "output_type": "stream",
     "text": [
      "early stop 25\n",
      "early stop 17\n",
      "early stop 11\n",
      "early stop 17\n",
      "early stop 36\n",
      "early stop 53\n",
      "early stop 29\n",
      "early stop 16\n",
      "early stop 25\n",
      "early stop 25\n"
     ]
    }
   ],
   "source": [
    "spot_sets = [ generate(SIZE) for _ in range(10) ]\n",
    "\n",
    "metrics = calculate_metrics(spot_sets)\n",
    "\n",
    "##TODO: plot charts by different algo parameters\n"
   ]
  },
  {
   "cell_type": "code",
   "execution_count": 11,
   "metadata": {},
   "outputs": [
    {
     "name": "stdout",
     "output_type": "stream",
     "text": [
      "{'time': 0.16693596689999596, 'image_loss': 0.0008770925313001498, 'false_positive': 6.3, 'false_negative': 5.3, 'dist_loss': tensor(0.3436), 'shape_loss': nan}\n"
     ]
    }
   ],
   "source": [
    "print(metrics)"
   ]
  },
  {
   "cell_type": "code",
   "execution_count": null,
   "metadata": {},
   "outputs": [],
   "source": []
  }
 ],
 "metadata": {
  "kernelspec": {
   "display_name": "pasteur",
   "language": "python",
   "name": "python3"
  },
  "language_info": {
   "codemirror_mode": {
    "name": "ipython",
    "version": 3
   },
   "file_extension": ".py",
   "mimetype": "text/x-python",
   "name": "python",
   "nbconvert_exporter": "python",
   "pygments_lexer": "ipython3",
   "version": "3.9.7"
  },
  "orig_nbformat": 4,
  "vscode": {
   "interpreter": {
    "hash": "e6af48cec00cc946ce531552b8686eef2683e1bbf40024d6a5ef008668d9f8fc"
   }
  }
 },
 "nbformat": 4,
 "nbformat_minor": 2
}
