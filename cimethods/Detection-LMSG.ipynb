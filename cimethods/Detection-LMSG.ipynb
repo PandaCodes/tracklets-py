{
 "cells": [
  {
   "cell_type": "code",
   "execution_count": 1,
   "metadata": {},
   "outputs": [],
   "source": [
    "from typing import Union\n",
    "from collections.abc import Iterable\n",
    "\n",
    "import torch\n",
    "import torch.nn.functional as F\n",
    "\n",
    "from tools.plot.im import imshow_all\n",
    "from detection.LMSG.ShapeOptimizer import ShapeOptimizer\n",
    "from tools.gaussian.SpotVector import GaussSpot\n",
    "from tools.gaussian.distance import wasserstein_distance_squared\n",
    "from tools.gaussian.gen import generate, TruncGaussParams\n",
    "\n",
    "%load_ext autoreload\n",
    "%autoreload 2"
   ]
  },
  {
   "cell_type": "code",
   "execution_count": 2,
   "metadata": {},
   "outputs": [],
   "source": [
    "# retreive sample image here; \n",
    "SIZE = 64\n",
    "images = generate(SIZE, 10, sig=TruncGaussParams(range=(0.3, 2), mu=1,sig=1)).sum_image(SIZE)"
   ]
  },
  {
   "cell_type": "code",
   "execution_count": 3,
   "metadata": {},
   "outputs": [
    {
     "data": {
      "image/png": "[encoded data removed]",
      "text/plain": [
       "<Figure size 640x480 with 1 Axes>"
      ]
     },
     "metadata": {},
     "output_type": "display_data"
    }
   ],
   "source": [
    "image = images[8]\n",
    "imshow_all(image)"
   ]
  },
  {
   "cell_type": "code",
   "execution_count": 4,
   "metadata": {},
   "outputs": [],
   "source": [
    "image = image.squeeze(-1)\n",
    "\n",
    "opt = ShapeOptimizer(image)\n",
    "opt.init_spots()\n",
    "centers = opt.get_centers()\n"
   ]
  },
  {
   "cell_type": "code",
   "execution_count": 5,
   "metadata": {},
   "outputs": [
    {
     "ename": "RuntimeError",
     "evalue": "Can't call numpy() on Tensor that requires grad. Use tensor.detach().numpy() instead.",
     "output_type": "error",
     "traceback": [
      "\u001b[0;31m---------------------------------------------------------------------------\u001b[0m",
      "\u001b[0;31mRuntimeError\u001b[0m                              Traceback (most recent call last)",
      "Cell \u001b[0;32mIn[5], line 16\u001b[0m\n\u001b[1;32m     13\u001b[0m     plt\u001b[39m.\u001b[39mscatter(centers[\u001b[39m.\u001b[39m\u001b[39m.\u001b[39m\u001b[39m.\u001b[39m,\u001b[39m1\u001b[39m], centers[\u001b[39m.\u001b[39m\u001b[39m.\u001b[39m\u001b[39m.\u001b[39m,\u001b[39m0\u001b[39m], \u001b[39m10\u001b[39m, c\u001b[39m=\u001b[39m\u001b[39m\"\u001b[39m\u001b[39mred\u001b[39m\u001b[39m\"\u001b[39m, marker\u001b[39m=\u001b[39mmarker)\n\u001b[1;32m     14\u001b[0m     plt\u001b[39m.\u001b[39mshow()\n\u001b[0;32m---> 16\u001b[0m imshow_with_points(image, centers)\n",
      "Cell \u001b[0;32mIn[5], line 13\u001b[0m, in \u001b[0;36mimshow_with_points\u001b[0;34m(image, centers)\u001b[0m\n\u001b[1;32m     11\u001b[0m plt\u001b[39m.\u001b[39mimshow(image, vmax\u001b[39m=\u001b[39m\u001b[39m1\u001b[39m, vmin\u001b[39m=\u001b[39m\u001b[39m0\u001b[39m)\n\u001b[1;32m     12\u001b[0m marker \u001b[39m=\u001b[39m mks\u001b[39m.\u001b[39mMarkerStyle(marker\u001b[39m=\u001b[39m\u001b[39m'\u001b[39m\u001b[39mo\u001b[39m\u001b[39m'\u001b[39m)\n\u001b[0;32m---> 13\u001b[0m plt\u001b[39m.\u001b[39;49mscatter(centers[\u001b[39m.\u001b[39;49m\u001b[39m.\u001b[39;49m\u001b[39m.\u001b[39;49m,\u001b[39m1\u001b[39;49m], centers[\u001b[39m.\u001b[39;49m\u001b[39m.\u001b[39;49m\u001b[39m.\u001b[39;49m,\u001b[39m0\u001b[39;49m], \u001b[39m10\u001b[39;49m, c\u001b[39m=\u001b[39;49m\u001b[39m\"\u001b[39;49m\u001b[39mred\u001b[39;49m\u001b[39m\"\u001b[39;49m, marker\u001b[39m=\u001b[39;49mmarker)\n\u001b[1;32m     14\u001b[0m plt\u001b[39m.\u001b[39mshow()\n",
      "File \u001b[0;32m~/miniforge3/envs/pasteur/lib/python3.9/site-packages/matplotlib/pyplot.py:2807\u001b[0m, in \u001b[0;36mscatter\u001b[0;34m(x, y, s, c, marker, cmap, norm, vmin, vmax, alpha, linewidths, edgecolors, plotnonfinite, data, **kwargs)\u001b[0m\n\u001b[1;32m   2802\u001b[0m \u001b[39m@_copy_docstring_and_deprecators\u001b[39m(Axes\u001b[39m.\u001b[39mscatter)\n\u001b[1;32m   2803\u001b[0m \u001b[39mdef\u001b[39;00m \u001b[39mscatter\u001b[39m(\n\u001b[1;32m   2804\u001b[0m         x, y, s\u001b[39m=\u001b[39m\u001b[39mNone\u001b[39;00m, c\u001b[39m=\u001b[39m\u001b[39mNone\u001b[39;00m, marker\u001b[39m=\u001b[39m\u001b[39mNone\u001b[39;00m, cmap\u001b[39m=\u001b[39m\u001b[39mNone\u001b[39;00m, norm\u001b[39m=\u001b[39m\u001b[39mNone\u001b[39;00m,\n\u001b[1;32m   2805\u001b[0m         vmin\u001b[39m=\u001b[39m\u001b[39mNone\u001b[39;00m, vmax\u001b[39m=\u001b[39m\u001b[39mNone\u001b[39;00m, alpha\u001b[39m=\u001b[39m\u001b[39mNone\u001b[39;00m, linewidths\u001b[39m=\u001b[39m\u001b[39mNone\u001b[39;00m, \u001b[39m*\u001b[39m,\n\u001b[1;32m   2806\u001b[0m         edgecolors\u001b[39m=\u001b[39m\u001b[39mNone\u001b[39;00m, plotnonfinite\u001b[39m=\u001b[39m\u001b[39mFalse\u001b[39;00m, data\u001b[39m=\u001b[39m\u001b[39mNone\u001b[39;00m, \u001b[39m*\u001b[39m\u001b[39m*\u001b[39mkwargs):\n\u001b[0;32m-> 2807\u001b[0m     __ret \u001b[39m=\u001b[39m gca()\u001b[39m.\u001b[39;49mscatter(\n\u001b[1;32m   2808\u001b[0m         x, y, s\u001b[39m=\u001b[39;49ms, c\u001b[39m=\u001b[39;49mc, marker\u001b[39m=\u001b[39;49mmarker, cmap\u001b[39m=\u001b[39;49mcmap, norm\u001b[39m=\u001b[39;49mnorm,\n\u001b[1;32m   2809\u001b[0m         vmin\u001b[39m=\u001b[39;49mvmin, vmax\u001b[39m=\u001b[39;49mvmax, alpha\u001b[39m=\u001b[39;49malpha, linewidths\u001b[39m=\u001b[39;49mlinewidths,\n\u001b[1;32m   2810\u001b[0m         edgecolors\u001b[39m=\u001b[39;49medgecolors, plotnonfinite\u001b[39m=\u001b[39;49mplotnonfinite,\n\u001b[1;32m   2811\u001b[0m         \u001b[39m*\u001b[39;49m\u001b[39m*\u001b[39;49m({\u001b[39m\"\u001b[39;49m\u001b[39mdata\u001b[39;49m\u001b[39m\"\u001b[39;49m: data} \u001b[39mif\u001b[39;49;00m data \u001b[39mis\u001b[39;49;00m \u001b[39mnot\u001b[39;49;00m \u001b[39mNone\u001b[39;49;00m \u001b[39melse\u001b[39;49;00m {}), \u001b[39m*\u001b[39;49m\u001b[39m*\u001b[39;49mkwargs)\n\u001b[1;32m   2812\u001b[0m     sci(__ret)\n\u001b[1;32m   2813\u001b[0m     \u001b[39mreturn\u001b[39;00m __ret\n",
      "File \u001b[0;32m~/miniforge3/envs/pasteur/lib/python3.9/site-packages/matplotlib/__init__.py:1412\u001b[0m, in \u001b[0;36m_preprocess_data.<locals>.inner\u001b[0;34m(ax, data, *args, **kwargs)\u001b[0m\n\u001b[1;32m   1409\u001b[0m \u001b[39m@functools\u001b[39m\u001b[39m.\u001b[39mwraps(func)\n\u001b[1;32m   1410\u001b[0m \u001b[39mdef\u001b[39;00m \u001b[39minner\u001b[39m(ax, \u001b[39m*\u001b[39margs, data\u001b[39m=\u001b[39m\u001b[39mNone\u001b[39;00m, \u001b[39m*\u001b[39m\u001b[39m*\u001b[39mkwargs):\n\u001b[1;32m   1411\u001b[0m     \u001b[39mif\u001b[39;00m data \u001b[39mis\u001b[39;00m \u001b[39mNone\u001b[39;00m:\n\u001b[0;32m-> 1412\u001b[0m         \u001b[39mreturn\u001b[39;00m func(ax, \u001b[39m*\u001b[39;49m\u001b[39mmap\u001b[39;49m(sanitize_sequence, args), \u001b[39m*\u001b[39;49m\u001b[39m*\u001b[39;49mkwargs)\n\u001b[1;32m   1414\u001b[0m     bound \u001b[39m=\u001b[39m new_sig\u001b[39m.\u001b[39mbind(ax, \u001b[39m*\u001b[39margs, \u001b[39m*\u001b[39m\u001b[39m*\u001b[39mkwargs)\n\u001b[1;32m   1415\u001b[0m     auto_label \u001b[39m=\u001b[39m (bound\u001b[39m.\u001b[39marguments\u001b[39m.\u001b[39mget(label_namer)\n\u001b[1;32m   1416\u001b[0m                   \u001b[39mor\u001b[39;00m bound\u001b[39m.\u001b[39mkwargs\u001b[39m.\u001b[39mget(label_namer))\n",
      "File \u001b[0;32m~/miniforge3/envs/pasteur/lib/python3.9/site-packages/matplotlib/axes/_axes.py:4366\u001b[0m, in \u001b[0;36mAxes.scatter\u001b[0;34m(self, x, y, s, c, marker, cmap, norm, vmin, vmax, alpha, linewidths, edgecolors, plotnonfinite, **kwargs)\u001b[0m\n\u001b[1;32m   4363\u001b[0m x, y \u001b[39m=\u001b[39m \u001b[39mself\u001b[39m\u001b[39m.\u001b[39m_process_unit_info([(\u001b[39m\"\u001b[39m\u001b[39mx\u001b[39m\u001b[39m\"\u001b[39m, x), (\u001b[39m\"\u001b[39m\u001b[39my\u001b[39m\u001b[39m\"\u001b[39m, y)], kwargs)\n\u001b[1;32m   4364\u001b[0m \u001b[39m# np.ma.ravel yields an ndarray, not a masked array,\u001b[39;00m\n\u001b[1;32m   4365\u001b[0m \u001b[39m# unless its argument is a masked array.\u001b[39;00m\n\u001b[0;32m-> 4366\u001b[0m x \u001b[39m=\u001b[39m np\u001b[39m.\u001b[39;49mma\u001b[39m.\u001b[39;49mravel(x)\n\u001b[1;32m   4367\u001b[0m y \u001b[39m=\u001b[39m np\u001b[39m.\u001b[39mma\u001b[39m.\u001b[39mravel(y)\n\u001b[1;32m   4368\u001b[0m \u001b[39mif\u001b[39;00m x\u001b[39m.\u001b[39msize \u001b[39m!=\u001b[39m y\u001b[39m.\u001b[39msize:\n",
      "File \u001b[0;32m~/miniforge3/envs/pasteur/lib/python3.9/site-packages/numpy/ma/core.py:6773\u001b[0m, in \u001b[0;36m_frommethod.__call__\u001b[0;34m(self, a, *args, **params)\u001b[0m\n\u001b[1;32m   6770\u001b[0m     args \u001b[39m=\u001b[39m \u001b[39mlist\u001b[39m(args)\n\u001b[1;32m   6771\u001b[0m     a, args[\u001b[39m0\u001b[39m] \u001b[39m=\u001b[39m args[\u001b[39m0\u001b[39m], a\n\u001b[0;32m-> 6773\u001b[0m marr \u001b[39m=\u001b[39m asanyarray(a)\n\u001b[1;32m   6774\u001b[0m method_name \u001b[39m=\u001b[39m \u001b[39mself\u001b[39m\u001b[39m.\u001b[39m\u001b[39m__name__\u001b[39m\n\u001b[1;32m   6775\u001b[0m method \u001b[39m=\u001b[39m \u001b[39mgetattr\u001b[39m(\u001b[39mtype\u001b[39m(marr), method_name, \u001b[39mNone\u001b[39;00m)\n",
      "File \u001b[0;32m~/miniforge3/envs/pasteur/lib/python3.9/site-packages/numpy/ma/core.py:8005\u001b[0m, in \u001b[0;36masanyarray\u001b[0;34m(a, dtype)\u001b[0m\n\u001b[1;32m   8003\u001b[0m \u001b[39mif\u001b[39;00m \u001b[39misinstance\u001b[39m(a, MaskedArray) \u001b[39mand\u001b[39;00m (dtype \u001b[39mis\u001b[39;00m \u001b[39mNone\u001b[39;00m \u001b[39mor\u001b[39;00m dtype \u001b[39m==\u001b[39m a\u001b[39m.\u001b[39mdtype):\n\u001b[1;32m   8004\u001b[0m     \u001b[39mreturn\u001b[39;00m a\n\u001b[0;32m-> 8005\u001b[0m \u001b[39mreturn\u001b[39;00m masked_array(a, dtype\u001b[39m=\u001b[39;49mdtype, copy\u001b[39m=\u001b[39;49m\u001b[39mFalse\u001b[39;49;00m, keep_mask\u001b[39m=\u001b[39;49m\u001b[39mTrue\u001b[39;49;00m, subok\u001b[39m=\u001b[39;49m\u001b[39mTrue\u001b[39;49;00m)\n",
      "File \u001b[0;32m~/miniforge3/envs/pasteur/lib/python3.9/site-packages/numpy/ma/core.py:2826\u001b[0m, in \u001b[0;36mMaskedArray.__new__\u001b[0;34m(cls, data, mask, dtype, copy, subok, ndmin, fill_value, keep_mask, hard_mask, shrink, order)\u001b[0m\n\u001b[1;32m   2817\u001b[0m \u001b[39m\"\"\"\u001b[39;00m\n\u001b[1;32m   2818\u001b[0m \u001b[39mCreate a new masked array from scratch.\u001b[39;00m\n\u001b[1;32m   2819\u001b[0m \n\u001b[0;32m   (...)\u001b[0m\n\u001b[1;32m   2823\u001b[0m \n\u001b[1;32m   2824\u001b[0m \u001b[39m\"\"\"\u001b[39;00m\n\u001b[1;32m   2825\u001b[0m \u001b[39m# Process data.\u001b[39;00m\n\u001b[0;32m-> 2826\u001b[0m _data \u001b[39m=\u001b[39m np\u001b[39m.\u001b[39;49marray(data, dtype\u001b[39m=\u001b[39;49mdtype, copy\u001b[39m=\u001b[39;49mcopy,\n\u001b[1;32m   2827\u001b[0m                  order\u001b[39m=\u001b[39;49morder, subok\u001b[39m=\u001b[39;49m\u001b[39mTrue\u001b[39;49;00m, ndmin\u001b[39m=\u001b[39;49mndmin)\n\u001b[1;32m   2828\u001b[0m _baseclass \u001b[39m=\u001b[39m \u001b[39mgetattr\u001b[39m(data, \u001b[39m'\u001b[39m\u001b[39m_baseclass\u001b[39m\u001b[39m'\u001b[39m, \u001b[39mtype\u001b[39m(_data))\n\u001b[1;32m   2829\u001b[0m \u001b[39m# Check that we're not erasing the mask.\u001b[39;00m\n",
      "File \u001b[0;32m~/miniforge3/envs/pasteur/lib/python3.9/site-packages/torch/_tensor.py:955\u001b[0m, in \u001b[0;36mTensor.__array__\u001b[0;34m(self, dtype)\u001b[0m\n\u001b[1;32m    953\u001b[0m     \u001b[39mreturn\u001b[39;00m handle_torch_function(Tensor\u001b[39m.\u001b[39m__array__, (\u001b[39mself\u001b[39m,), \u001b[39mself\u001b[39m, dtype\u001b[39m=\u001b[39mdtype)\n\u001b[1;32m    954\u001b[0m \u001b[39mif\u001b[39;00m dtype \u001b[39mis\u001b[39;00m \u001b[39mNone\u001b[39;00m:\n\u001b[0;32m--> 955\u001b[0m     \u001b[39mreturn\u001b[39;00m \u001b[39mself\u001b[39;49m\u001b[39m.\u001b[39;49mnumpy()\n\u001b[1;32m    956\u001b[0m \u001b[39melse\u001b[39;00m:\n\u001b[1;32m    957\u001b[0m     \u001b[39mreturn\u001b[39;00m \u001b[39mself\u001b[39m\u001b[39m.\u001b[39mnumpy()\u001b[39m.\u001b[39mastype(dtype, copy\u001b[39m=\u001b[39m\u001b[39mFalse\u001b[39;00m)\n",
      "\u001b[0;31mRuntimeError\u001b[0m: Can't call numpy() on Tensor that requires grad. Use tensor.detach().numpy() instead."
     ]
    },
    {
     "data": {
      "image/png": "[encoded data removed]",
      "text/plain": [
       "<Figure size 640x480 with 1 Axes>"
      ]
     },
     "metadata": {},
     "output_type": "display_data"
    }
   ],
   "source": [
    "import matplotlib.pyplot as plt\n",
    "import matplotlib.markers as mks\n",
    "\n",
    "def imshow_diff(image, prediction):\n",
    "    plt.axis(\"off\")\n",
    "    plt.imshow(prediction - image, vmax=1, vmin=-1)\n",
    "    plt.show()\n",
    "\n",
    "def imshow_with_points(image, centers):\n",
    "    plt.axis(\"off\")\n",
    "    plt.imshow(image, vmax=1, vmin=0)\n",
    "    marker = mks.MarkerStyle(marker='o')\n",
    "    plt.scatter(centers[...,1], centers[...,0], 10, c=\"red\", marker=marker)\n",
    "    plt.show()\n",
    "\n",
    "imshow_with_points(image, centers)\n"
   ]
  },
  {
   "cell_type": "code",
   "execution_count": null,
   "metadata": {},
   "outputs": [
    {
     "name": "stdout",
     "output_type": "stream",
     "text": [
      "early stop 29\n",
      "MSE image loss:  7.630381151102483e-05\n",
      "Max pixel-wise difference:  tensor(0.1468)\n"
     ]
    },
    {
     "data": {
      "image/png": "[encoded data removed]",
      "text/plain": [
       "<Figure size 640x480 with 2 Axes>"
      ]
     },
     "metadata": {},
     "output_type": "display_data"
    },
    {
     "data": {
      "image/png": "[encoded data removed]",
      "text/plain": [
       "<Figure size 640x480 with 1 Axes>"
      ]
     },
     "metadata": {},
     "output_type": "display_data"
    }
   ],
   "source": [
    "opt.optimize(lr=1, avg_loss_stop = 1e-20, avg_loss_stop_n=10)\n",
    "modeled_image = opt.spots_image()\n",
    "\n",
    "loss = F.mse_loss(modeled_image, image)\n",
    "max_pixel_diff = torch.abs(modeled_image-image).max()\n",
    "\n",
    "\n",
    "print(\"MSE image loss: \", loss.item())\n",
    "print(\"Max pixel-wise difference: \", max_pixel_diff)\n",
    "imshow_all(image, modeled_image)\n",
    "imshow_diff(modeled_image, image)\n"
   ]
  },
  {
   "attachments": {},
   "cell_type": "markdown",
   "metadata": {},
   "source": [
    "# Metrics Evaluation"
   ]
  },
  {
   "cell_type": "code",
   "execution_count": 6,
   "metadata": {},
   "outputs": [],
   "source": [
    "from cmath import isnan\n",
    "import scipy\n",
    "import time\n",
    "\n",
    "def find_pairs(spots1, spots2):\n",
    "    distances = torch.cdist(spots1.mu.unsqueeze(0), spots2.mu.unsqueeze(0)).squeeze(0)\n",
    "    row_ind, col_ind = scipy.optimize.linear_sum_assignment(distances)\n",
    "    return spots1[row_ind], spots2[col_ind], distances\n",
    "\n",
    "def calc_two_sets_accuracy(prediction: GaussSpot, target: GaussSpot, d_max=3.):\n",
    "    metrics = {}\n",
    "    sp_target, sp_pred, distances = find_pairs(target, prediction)\n",
    "    dist = ((sp_target.mu - sp_pred.mu)**2).sum(-1)\n",
    "    ok_pairs = dist < d_max**2\n",
    "    sp_target, sp_pred = sp_target[ok_pairs], sp_pred[ok_pairs]\n",
    "    metrics[\"dist_loss\"] = F.mse_loss(sp_pred.mu, sp_target.mu) if torch.numel(sp_target.tensor) > 0 else 0\n",
    "\n",
    "    #sometimes dist has 'nan' value TODO!: fix \n",
    "    w_dist2 = wasserstein_distance_squared(sp_pred.mu, sp_target.mu, sp_pred.sigD, sp_target.sigD)\n",
    "    metrics[\"shape_loss\"] = w_dist2.mean().item()  if torch.numel(w_dist2) > 0 else 0\n",
    "\n",
    "    metrics[\"false_positive\"] = max(len(prediction) - len(sp_pred), 0)\n",
    "    metrics[\"false_negative\"] = max(len(target) - len(sp_pred), 0)\n",
    "    return metrics"
   ]
  },
  {
   "cell_type": "code",
   "execution_count": 7,
   "metadata": {},
   "outputs": [],
   "source": [
    "def calculate_metrics(\n",
    "    data: Iterable[Union[torch.Tensor, GaussSpot]],\n",
    "    threshold=0.,\n",
    "    lr=1,\n",
    "    avg_loss_stop = 1e-10,\n",
    "    avg_loss_stop_n=5,\n",
    "):\n",
    "    metrics = {\n",
    "        \"time\": 0.,\n",
    "        \"image_loss\": 0.,\n",
    "        \"false_positive\": 0.,\n",
    "        \"false_negative\": 0.,\n",
    "        \"dist_loss\": 0.,\n",
    "        \"shape_loss\": 0.,\n",
    "    }\n",
    "    n = 0.\n",
    "    for input in data:\n",
    "        n+=1\n",
    "        input_image = input.sum_image(SIZE) if isinstance(input, GaussSpot) else input\n",
    "        \n",
    "        start_time = time.perf_counter()\n",
    "\n",
    "        opt = ShapeOptimizer(input_image)\n",
    "        opt.init_spots(threshold=threshold)\n",
    "        # TODO: dependency of image_loss on lr/early_stop\n",
    "        opt.optimize(lr=lr, avg_loss_stop = avg_loss_stop, avg_loss_stop_n=avg_loss_stop_n)\n",
    "\n",
    "        end_time = time.perf_counter()\n",
    "        metrics[\"time\"] += end_time-start_time\n",
    "\n",
    "        modeled_image = opt.spots_image()\n",
    "\n",
    "        metrics[\"image_loss\"] += F.mse_loss(modeled_image, image).item()\n",
    "\n",
    "        if isinstance(input, GaussSpot): # ground truth spot set\n",
    "            spots = opt.spots\n",
    "            spots_predicted = spots[spots.intensity>0.01]\n",
    "            set_metrics = calc_two_sets_accuracy(spots_predicted, input)\n",
    "            for k, v in set_metrics.items():\n",
    "                metrics[k] += v\n",
    "    for k, v in metrics.items():\n",
    "        metrics[k] = v/n\n",
    "    return metrics\n"
   ]
  },
  {
   "cell_type": "code",
   "execution_count": 10,
   "metadata": {},
   "outputs": [
    {
     "name": "stdout",
     "output_type": "stream",
     "text": [
      "early stop 25\n",
      "early stop 17\n",
      "early stop 11\n",
      "early stop 17\n",
      "early stop 36\n",
      "early stop 53\n",
      "early stop 29\n",
      "early stop 16\n",
      "early stop 25\n",
      "early stop 25\n"
     ]
    }
   ],
   "source": [
    "spot_sets = [ generate(SIZE) for _ in range(10) ]\n",
    "\n",
    "metrics = calculate_metrics(spot_sets)\n",
    "\n",
    "##TODO: plot charts by different algo parameters\n"
   ]
  },
  {
   "cell_type": "code",
   "execution_count": 11,
   "metadata": {},
   "outputs": [
    {
     "name": "stdout",
     "output_type": "stream",
     "text": [
      "{'time': 0.16693596689999596, 'image_loss': 0.0008770925313001498, 'false_positive': 6.3, 'false_negative': 5.3, 'dist_loss': tensor(0.3436), 'shape_loss': nan}\n"
     ]
    }
   ],
   "source": [
    "print(metrics)"
   ]
  },
  {
   "cell_type": "code",
   "execution_count": null,
   "metadata": {},
   "outputs": [],
   "source": []
  }
 ],
 "metadata": {
  "kernelspec": {
   "display_name": "pasteur",
   "language": "python",
   "name": "python3"
  },
  "language_info": {
   "codemirror_mode": {
    "name": "ipython",
    "version": 3
   },
   "file_extension": ".py",
   "mimetype": "text/x-python",
   "name": "python",
   "nbconvert_exporter": "python",
   "pygments_lexer": "ipython3",
   "version": "3.9.7"
  },
  "orig_nbformat": 4,
  "vscode": {
   "interpreter": {
    "hash": "e6af48cec00cc946ce531552b8686eef2683e1bbf40024d6a5ef008668d9f8fc"
   }
  }
 },
 "nbformat": 4,
 "nbformat_minor": 2
}
